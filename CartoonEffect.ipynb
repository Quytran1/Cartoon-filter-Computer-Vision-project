{
 "cells": [
  {
   "cell_type": "code",
   "execution_count": null,
   "metadata": {},
   "outputs": [],
   "source": [
    "#import các thư viện\n",
    "import cv2\n",
    "import numpy as np\n",
    "import matplotlib.pyplot as plt"
   ]
  },
  {
   "cell_type": "code",
   "execution_count": null,
   "metadata": {},
   "outputs": [],
   "source": [
    "#LOAD IMAGE\n",
    "def read_image(image_path):\n",
    "    image = cv2.imread(image_path)\n",
    "    image = cv2.cvtColor(image, cv2.COLOR_BGR2RGB)\n",
    "    plt.imshow(image)\n",
    "    plt.show()\n",
    "    return image"
   ]
  },
  {
   "cell_type": "code",
   "execution_count": null,
   "metadata": {},
   "outputs": [],
   "source": [
    "image_path = \"Face1.jpg\"\n",
    "image = read_image(image_path)"
   ]
  },
  {
   "cell_type": "code",
   "execution_count": null,
   "metadata": {},
   "outputs": [],
   "source": [
    "# Create Egde Mask\n",
    "def edge_mask(img, line_size, blur_value):\n",
    "    \"\"\"\n",
    "    Input: Gray scale Image\n",
    "    Output: Edges of Image\n",
    "    \"\"\"\n",
    "    gray = cv2.cvtColor(img, cv2.COLOR_RGB2GRAY)\n",
    "    gray_blur = cv2.medianBlur(gray, blur_value)\n",
    "\n",
    "    edge = cv2.adaptiveThreshold(gray_blur , 255, cv2.ADAPTIVE_THRESH_MEAN_C, cv2.THRESH_BINARY, line_size, blur_value)\n",
    "\n",
    "    return edge"
   ]
  },
  {
   "cell_type": "code",
   "execution_count": null,
   "metadata": {},
   "outputs": [],
   "source": []
  },
  {
   "cell_type": "code",
   "execution_count": null,
   "metadata": {},
   "outputs": [],
   "source": [
    "color = cv2.medianBlur(image, 21)\n",
    "\n",
    "plt.imshow(color)\n",
    "plt.show"
   ]
  },
  {
   "cell_type": "code",
   "execution_count": null,
   "metadata": {},
   "outputs": [],
   "source": [
    "line_size, blur_value = 7, 5\n",
    "edge = edge_mask(image, line_size, blur_value)\n",
    "\n",
    "plt.imshow(edge, cmap = \"gray\")\n",
    "plt.show"
   ]
  },
  {
   "attachments": {},
   "cell_type": "markdown",
   "metadata": {},
   "source": [
    "##Reduce the color palette"
   ]
  },
  {
   "cell_type": "code",
   "execution_count": null,
   "metadata": {},
   "outputs": [],
   "source": [
    "def color_quantization(img, k):\n",
    "\n",
    "    # Transform the image\n",
    "    data = np.float32(img).reshape((-1, 3))\n",
    "\n",
    "    # Determine Criteria\n",
    "    criteria = (cv2.TERM_CRITERIA_EPS+ cv2.TERM_CRITERIA_MAX_ITER, 20, 0.001)\n",
    "\n",
    "    # Implementing K-Means\n",
    "    ret, label, center = cv2.kmeans(data, k, None, criteria, 10, cv2.KMEANS_RANDOM_CENTERS)\n",
    "    center = np.uint8(center)\n",
    "\n",
    "    result = center[label.flatten()]\n",
    "    result = result.reshape(img.shape)\n",
    "\n",
    "    return result"
   ]
  },
  {
   "cell_type": "code",
   "execution_count": null,
   "metadata": {},
   "outputs": [],
   "source": [
    "from sklearn.cluster import KMeans\n",
    "def create_less_color_palette(image, num_colors):\n",
    "    # Convert the image to grayscale\n",
    "    gray_image = cv2.cvtColor(image, cv2.COLOR_BGR2GRAY)\n",
    "\n",
    "    # Apply color quantization\n",
    "    pixels = gray_image.reshape(-1, 1)\n",
    "    kmeans = KMeans(n_clusters=num_colors)\n",
    "    kmeans.fit(pixels)\n",
    "\n",
    "    # Get the main color values from the K-means algorithm\n",
    "    colors = kmeans.cluster_centers_.squeeze()\n",
    "\n",
    "    # Create the less color palette from the color values\n",
    "    palette = np.zeros((1, 1, 3), dtype=np.uint8)\n",
    "    palette[0, 0, :] = colors[:3]\n",
    "\n",
    "    return palette\n"
   ]
  },
  {
   "cell_type": "code",
   "execution_count": null,
   "metadata": {},
   "outputs": [],
   "source": [
    "img_quantized = color_quantization(image, k=9)\n",
    "\n",
    "plt.imshow(img_quantized)\n",
    "plt.show"
   ]
  },
  {
   "cell_type": "code",
   "execution_count": null,
   "metadata": {},
   "outputs": [],
   "source": [
    "img_less = create_less_color_palette(image, num_colors=9)\n",
    "\n",
    "plt.imshow(img_less)\n",
    "plt.show"
   ]
  },
  {
   "cell_type": "code",
   "execution_count": null,
   "metadata": {},
   "outputs": [],
   "source": [
    "# Reduce the noise\n",
    "blurred = cv2.bilateralFilter(img_quantized, d = 9, sigmaColor= 9, sigmaSpace= 7)\n",
    "\n",
    "plt.imshow(blurred)\n",
    "plt.show"
   ]
  },
  {
   "cell_type": "code",
   "execution_count": null,
   "metadata": {},
   "outputs": [],
   "source": [
    "# Combine Edge Mask with the quantized image\n",
    "\n",
    "def cartoon():\n",
    "    c = cv2.bitwise_and(blurred, blurred, mask = edge )\n",
    "    return c\n",
    "    "
   ]
  },
  {
   "cell_type": "code",
   "execution_count": null,
   "metadata": {},
   "outputs": [],
   "source": [
    "Test3_output = cartoon()\n",
    "bgr_image = cv2.cvtColor(Test3_output, cv2.COLOR_BGR2RGB)\n",
    "cv2.imwrite(\"Test3_output.jpg\", bgr_image)\n",
    "\n",
    "plt.imshow(Test3_output)\n",
    "plt.show"
   ]
  }
 ],
 "metadata": {
  "kernelspec": {
   "display_name": "Python 3",
   "language": "python",
   "name": "python3"
  },
  "language_info": {
   "codemirror_mode": {
    "name": "ipython",
    "version": 3
   },
   "file_extension": ".py",
   "mimetype": "text/x-python",
   "name": "python",
   "nbconvert_exporter": "python",
   "pygments_lexer": "ipython3",
   "version": "3.9.1"
  },
  "orig_nbformat": 4
 },
 "nbformat": 4,
 "nbformat_minor": 2
}
